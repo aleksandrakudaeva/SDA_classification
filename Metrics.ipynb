{
 "cells": [
  {
   "cell_type": "markdown",
   "metadata": {
    "id": "-g4zNhPSX4BW"
   },
   "source": [
    "# Classification metrics\n",
    "\n",
    "In order to learn about popular methods of classifier evaluation, we will generate example sequences of example classes. For this purpose, we will use the numpy library and a random number generator from the normal distribution."
   ]
  },
  {
   "cell_type": "code",
   "execution_count": 1,
   "metadata": {
    "ExecuteTime": {
     "end_time": "2022-08-14T06:40:09.977287Z",
     "start_time": "2022-08-14T06:40:02.546186Z"
    },
    "id": "oeUhNVQ3X4Bb"
   },
   "outputs": [],
   "source": [
    "import numpy as np\n",
    "import pandas as pd\n",
    "from numpy.random import RandomState\n",
    "from sklearn.metrics import precision_score, recall_score, confusion_matrix, f1_score\n",
    "from matplotlib import pyplot as plt"
   ]
  },
  {
   "cell_type": "markdown",
   "metadata": {},
   "source": [
    "Let's generate an example for us to better understand classification metrics "
   ]
  },
  {
   "cell_type": "code",
   "execution_count": 34,
   "metadata": {
    "ExecuteTime": {
     "end_time": "2022-08-14T07:35:22.224169Z",
     "start_time": "2022-08-14T07:35:22.185160Z"
    },
    "colab": {
     "base_uri": "https://localhost:8080/"
    },
    "id": "-zS2jGUxX4Bc",
    "outputId": "f4ce7d4f-345c-4b9d-9c72-8fddfac08577"
   },
   "outputs": [
    {
     "name": "stdout",
     "output_type": "stream",
     "text": [
      "[0, 1, 0, 1, 0, 1, 0, 1, 1, 0]\n",
      "[1, 1, 1, 0, 0, 1, 0, 1, 0, 1]\n"
     ]
    }
   ],
   "source": [
    "random = RandomState(30)\n",
    "\n",
    "random_1 = random.normal(loc=0.0, size=100)\n",
    "random_2 = random.normal(loc=1, size=100)\n",
    "random_3 = random.logistic(size=100)\n",
    "y_test = [1 if i >= 0 else 0 for i in random_1]\n",
    "y_pred = [1 if i >= 0 else 0 for i in random_3]\n",
    "print(y_test[:10])\n",
    "print(y_pred[:10])\n"
   ]
  },
  {
   "cell_type": "markdown",
   "metadata": {},
   "source": [
    "Just to illustrate the meaning of the numbers we have generated"
   ]
  },
  {
   "cell_type": "code",
   "execution_count": 35,
   "metadata": {
    "ExecuteTime": {
     "end_time": "2022-08-14T07:35:26.703918Z",
     "start_time": "2022-08-14T07:35:26.593917Z"
    }
   },
   "outputs": [
    {
     "data": {
      "text/html": [
       "<div>\n",
       "<style scoped>\n",
       "    .dataframe tbody tr th:only-of-type {\n",
       "        vertical-align: middle;\n",
       "    }\n",
       "\n",
       "    .dataframe tbody tr th {\n",
       "        vertical-align: top;\n",
       "    }\n",
       "\n",
       "    .dataframe thead th {\n",
       "        text-align: right;\n",
       "    }\n",
       "</style>\n",
       "<table border=\"1\" class=\"dataframe\">\n",
       "  <thead>\n",
       "    <tr style=\"text-align: right;\">\n",
       "      <th></th>\n",
       "      <th>Real Class</th>\n",
       "      <th>Class Predicted by some classification model</th>\n",
       "      <th>Correct prediction?</th>\n",
       "    </tr>\n",
       "  </thead>\n",
       "  <tbody>\n",
       "    <tr>\n",
       "      <th>0</th>\n",
       "      <td>0</td>\n",
       "      <td>1</td>\n",
       "      <td>False</td>\n",
       "    </tr>\n",
       "    <tr>\n",
       "      <th>1</th>\n",
       "      <td>1</td>\n",
       "      <td>1</td>\n",
       "      <td>True</td>\n",
       "    </tr>\n",
       "    <tr>\n",
       "      <th>2</th>\n",
       "      <td>0</td>\n",
       "      <td>1</td>\n",
       "      <td>False</td>\n",
       "    </tr>\n",
       "    <tr>\n",
       "      <th>3</th>\n",
       "      <td>1</td>\n",
       "      <td>0</td>\n",
       "      <td>False</td>\n",
       "    </tr>\n",
       "    <tr>\n",
       "      <th>4</th>\n",
       "      <td>0</td>\n",
       "      <td>0</td>\n",
       "      <td>True</td>\n",
       "    </tr>\n",
       "    <tr>\n",
       "      <th>...</th>\n",
       "      <td>...</td>\n",
       "      <td>...</td>\n",
       "      <td>...</td>\n",
       "    </tr>\n",
       "    <tr>\n",
       "      <th>95</th>\n",
       "      <td>0</td>\n",
       "      <td>1</td>\n",
       "      <td>False</td>\n",
       "    </tr>\n",
       "    <tr>\n",
       "      <th>96</th>\n",
       "      <td>1</td>\n",
       "      <td>1</td>\n",
       "      <td>True</td>\n",
       "    </tr>\n",
       "    <tr>\n",
       "      <th>97</th>\n",
       "      <td>0</td>\n",
       "      <td>1</td>\n",
       "      <td>False</td>\n",
       "    </tr>\n",
       "    <tr>\n",
       "      <th>98</th>\n",
       "      <td>1</td>\n",
       "      <td>0</td>\n",
       "      <td>False</td>\n",
       "    </tr>\n",
       "    <tr>\n",
       "      <th>99</th>\n",
       "      <td>1</td>\n",
       "      <td>1</td>\n",
       "      <td>True</td>\n",
       "    </tr>\n",
       "  </tbody>\n",
       "</table>\n",
       "<p>100 rows × 3 columns</p>\n",
       "</div>"
      ],
      "text/plain": [
       "    Real Class  Class Predicted by some classification model  \\\n",
       "0            0                                             1   \n",
       "1            1                                             1   \n",
       "2            0                                             1   \n",
       "3            1                                             0   \n",
       "4            0                                             0   \n",
       "..         ...                                           ...   \n",
       "95           0                                             1   \n",
       "96           1                                             1   \n",
       "97           0                                             1   \n",
       "98           1                                             0   \n",
       "99           1                                             1   \n",
       "\n",
       "   Correct prediction?  \n",
       "0                False  \n",
       "1                 True  \n",
       "2                False  \n",
       "3                False  \n",
       "4                 True  \n",
       "..                 ...  \n",
       "95               False  \n",
       "96                True  \n",
       "97               False  \n",
       "98               False  \n",
       "99                True  \n",
       "\n",
       "[100 rows x 3 columns]"
      ]
     },
     "execution_count": 35,
     "metadata": {},
     "output_type": "execute_result"
    }
   ],
   "source": [
    "example = pd.DataFrame({'Real Class': y_test, 'Class Predicted by some classification model': y_pred, 'sum': np.array(y_test)+np.array(y_pred)})\n",
    "example['Correct prediction?'] = ['False' if s == 1 else 'True' for s in example['sum']]\n",
    "example = example.drop(['sum'], axis = 1)\n",
    "\n",
    "example"
   ]
  },
  {
   "cell_type": "markdown",
   "metadata": {},
   "source": [
    "# Confusion Matrix"
   ]
  },
  {
   "cell_type": "code",
   "execution_count": 61,
   "metadata": {
    "ExecuteTime": {
     "end_time": "2022-08-14T08:56:42.322808Z",
     "start_time": "2022-08-14T08:56:42.304522Z"
    }
   },
   "outputs": [],
   "source": [
    "# True Positives  # False Positives\n",
    "# False Negatives # True Negatives\n",
    "\n",
    "def confusion_matrix_selfmade(y_test, y_pred):\n",
    "    tp, fp, tn, fn = 0, 0, 0, 0\n",
    "    for real, predicted in zip(y_test, y_pred):\n",
    "        if real == predicted:\n",
    "            if predicted: # if predicted == 1: \n",
    "                tp += 1\n",
    "            else:\n",
    "                tn += 1\n",
    "        else:\n",
    "            if predicted:\n",
    "                fp += 1\n",
    "            else:\n",
    "                fn += 1\n",
    "\n",
    "    return {'TP': tp,'TN': tn, 'FP': fp,'FN': fn}\n",
    "\n",
    "        "
   ]
  },
  {
   "cell_type": "code",
   "execution_count": 37,
   "metadata": {
    "ExecuteTime": {
     "end_time": "2022-08-14T07:35:32.606371Z",
     "start_time": "2022-08-14T07:35:32.571368Z"
    }
   },
   "outputs": [
    {
     "data": {
      "text/plain": [
       "{'TP': 28, 'TN': 32, 'FP': 25, 'FN': 15}"
      ]
     },
     "execution_count": 37,
     "metadata": {},
     "output_type": "execute_result"
    }
   ],
   "source": [
    "confusion_matrix(y_test, y_pred)"
   ]
  },
  {
   "cell_type": "markdown",
   "metadata": {},
   "source": [
    "# Accuracy"
   ]
  },
  {
   "cell_type": "code",
   "execution_count": 62,
   "metadata": {
    "ExecuteTime": {
     "end_time": "2022-08-14T08:56:50.296433Z",
     "start_time": "2022-08-14T08:56:50.266439Z"
    }
   },
   "outputs": [],
   "source": [
    "# Accuracy = (TP+TN)/(TP+TN+FP+FN)\n",
    "\n",
    "def accuracy(y_test, y_pred): \n",
    "    dct=confusion_matrix_selfmade(y_test, y_pred)\n",
    "    accuracy = (dct['TP']+dct['TN'])/(dct['TP']+dct['TN']+dct['FP']+dct['FN'])\n",
    "    return accuracy\n",
    "    "
   ]
  },
  {
   "cell_type": "code",
   "execution_count": 39,
   "metadata": {
    "ExecuteTime": {
     "end_time": "2022-08-14T07:35:42.952932Z",
     "start_time": "2022-08-14T07:35:42.928937Z"
    }
   },
   "outputs": [
    {
     "data": {
      "text/plain": [
       "0.6"
      ]
     },
     "execution_count": 39,
     "metadata": {},
     "output_type": "execute_result"
    }
   ],
   "source": [
    "accuracy(y_test, y_pred)"
   ]
  },
  {
   "cell_type": "code",
   "execution_count": null,
   "metadata": {},
   "outputs": [],
   "source": [
    "# Accuracy is not a good measure for imbalanced datasets (e.g. predicting rare events)\n",
    "\n",
    "# Predict earthquake \n",
    "# No earthquake 999 - Label 0,\n",
    "# Earthquake 1 - Label 1\n",
    "\n",
    "# This \"model\" with always say that no earthquake is going to happen\n",
    "def model(): \n",
    "    return 0\n",
    "\n",
    "# accuracy = correct predictions / all observations\n",
    "\n",
    "# accuracy = 999/1000 = 0.999\n",
    "\n",
    "# In general: Accuracy is a number from 0 to 1, where the perfect model has accuracy 1"
   ]
  },
  {
   "cell_type": "markdown",
   "metadata": {},
   "source": [
    "# Recall, Precision, F1 Scores"
   ]
  },
  {
   "cell_type": "code",
   "execution_count": 63,
   "metadata": {
    "ExecuteTime": {
     "end_time": "2022-08-14T08:57:17.421703Z",
     "start_time": "2022-08-14T08:57:17.399704Z"
    }
   },
   "outputs": [],
   "source": [
    "def recall(y_test, y_pred): \n",
    "    dct=confusion_matrix_selfmade(y_test, y_pred)\n",
    "    recall = (dct['TP'])/(dct['TP']+dct['FN'])\n",
    "    return recall\n",
    "\n",
    "\n",
    "def precision(y_test, y_pred): \n",
    "    dct=confusion_matrix_selfmade(y_test, y_pred)\n",
    "    precision = (dct['TP'])/(dct['TP']+dct['FP'])\n",
    "    return precision"
   ]
  },
  {
   "cell_type": "code",
   "execution_count": 64,
   "metadata": {
    "ExecuteTime": {
     "end_time": "2022-08-14T08:57:18.382707Z",
     "start_time": "2022-08-14T08:57:18.361708Z"
    }
   },
   "outputs": [
    {
     "data": {
      "text/plain": [
       "0.6511627906976745"
      ]
     },
     "execution_count": 64,
     "metadata": {},
     "output_type": "execute_result"
    }
   ],
   "source": [
    "recall(y_test, y_pred)"
   ]
  },
  {
   "cell_type": "code",
   "execution_count": 65,
   "metadata": {
    "ExecuteTime": {
     "end_time": "2022-08-14T08:57:24.849447Z",
     "start_time": "2022-08-14T08:57:24.830440Z"
    }
   },
   "outputs": [
    {
     "data": {
      "text/plain": [
       "0.5283018867924528"
      ]
     },
     "execution_count": 65,
     "metadata": {},
     "output_type": "execute_result"
    }
   ],
   "source": [
    "precision(y_test, y_pred)"
   ]
  },
  {
   "cell_type": "code",
   "execution_count": 66,
   "metadata": {
    "ExecuteTime": {
     "end_time": "2022-08-14T08:57:25.577837Z",
     "start_time": "2022-08-14T08:57:25.555427Z"
    }
   },
   "outputs": [],
   "source": [
    "def f1(y_test, y_pred): \n",
    "    r = recall(y_test, y_pred)\n",
    "    p = precision(y_test, y_pred)\n",
    "    \n",
    "    return (2*r*p)/(r+p)"
   ]
  },
  {
   "cell_type": "code",
   "execution_count": 67,
   "metadata": {
    "ExecuteTime": {
     "end_time": "2022-08-14T08:57:26.299394Z",
     "start_time": "2022-08-14T08:57:26.270402Z"
    }
   },
   "outputs": [
    {
     "data": {
      "text/plain": [
       "0.5833333333333333"
      ]
     },
     "execution_count": 67,
     "metadata": {},
     "output_type": "execute_result"
    }
   ],
   "source": [
    "f1(y_test, y_pred)"
   ]
  },
  {
   "cell_type": "code",
   "execution_count": null,
   "metadata": {},
   "outputs": [],
   "source": [
    "# 5 earthquakes\n",
    "# 995 not earthquakes\n",
    "\n",
    "# 3 correctly predicted an earthquake\n",
    "# 10 times we have predicted that there going to be an earthquake\n",
    "\n",
    "# precision = 3/10 = 0.3\n",
    "# recall = 3/5 = 0.6\n",
    "# f1 = 2*0.3*0.6 / 0.6+0.3 = 0.36/0.9 = 0.4\n",
    "\n",
    "\n",
    "# accuracy = 993 / 1000 = 0.993"
   ]
  },
  {
   "cell_type": "code",
   "execution_count": 47,
   "metadata": {
    "ExecuteTime": {
     "end_time": "2022-08-14T08:50:43.477006Z",
     "start_time": "2022-08-14T08:50:43.454003Z"
    }
   },
   "outputs": [],
   "source": [
    "from sklearn.metrics import precision_score, recall_score, confusion_matrix, f1_score"
   ]
  },
  {
   "cell_type": "code",
   "execution_count": 49,
   "metadata": {
    "ExecuteTime": {
     "end_time": "2022-08-14T08:53:10.163754Z",
     "start_time": "2022-08-14T08:53:10.133755Z"
    }
   },
   "outputs": [
    {
     "data": {
      "text/plain": [
       "array([[32, 25],\n",
       "       [15, 28]], dtype=int64)"
      ]
     },
     "execution_count": 49,
     "metadata": {},
     "output_type": "execute_result"
    }
   ],
   "source": [
    "confusion_matrix(y_test, y_pred)"
   ]
  },
  {
   "cell_type": "code",
   "execution_count": 68,
   "metadata": {
    "ExecuteTime": {
     "end_time": "2022-08-14T08:57:47.044309Z",
     "start_time": "2022-08-14T08:57:47.023300Z"
    }
   },
   "outputs": [],
   "source": [
    "assert recall_score(y_test, y_pred) == recall(y_test, y_pred)"
   ]
  },
  {
   "cell_type": "code",
   "execution_count": 69,
   "metadata": {
    "ExecuteTime": {
     "end_time": "2022-08-14T08:58:08.705654Z",
     "start_time": "2022-08-14T08:58:08.675669Z"
    }
   },
   "outputs": [],
   "source": [
    "assert precision_score(y_test, y_pred) == precision(y_test, y_pred)"
   ]
  },
  {
   "cell_type": "code",
   "execution_count": 70,
   "metadata": {
    "ExecuteTime": {
     "end_time": "2022-08-14T08:58:20.934177Z",
     "start_time": "2022-08-14T08:58:20.899191Z"
    }
   },
   "outputs": [],
   "source": [
    "assert f1_score(y_test, y_pred) == f1(y_test, y_pred)"
   ]
  },
  {
   "cell_type": "markdown",
   "metadata": {},
   "source": [
    "# ROC AUC CURVE"
   ]
  },
  {
   "cell_type": "code",
   "execution_count": 75,
   "metadata": {
    "ExecuteTime": {
     "end_time": "2022-08-14T09:12:13.098518Z",
     "start_time": "2022-08-14T09:12:13.087196Z"
    }
   },
   "outputs": [],
   "source": [
    "from sklearn.metrics import roc_curve, auc, roc_auc_score"
   ]
  },
  {
   "cell_type": "code",
   "execution_count": 78,
   "metadata": {
    "ExecuteTime": {
     "end_time": "2022-08-14T09:35:05.462308Z",
     "start_time": "2022-08-14T09:35:05.439753Z"
    }
   },
   "outputs": [],
   "source": [
    "fpr, tpr, _ = roc_curve(y_test, y_pred)"
   ]
  },
  {
   "cell_type": "code",
   "execution_count": 76,
   "metadata": {
    "ExecuteTime": {
     "end_time": "2022-08-14T09:12:18.186287Z",
     "start_time": "2022-08-14T09:12:18.138289Z"
    }
   },
   "outputs": [
    {
     "data": {
      "text/plain": [
       "0.6062831497348021"
      ]
     },
     "execution_count": 76,
     "metadata": {},
     "output_type": "execute_result"
    }
   ],
   "source": [
    "roc_auc_score(y_test, y_pred)"
   ]
  },
  {
   "cell_type": "code",
   "execution_count": 82,
   "metadata": {
    "ExecuteTime": {
     "end_time": "2022-08-14T09:36:18.513694Z",
     "start_time": "2022-08-14T09:36:17.855688Z"
    }
   },
   "outputs": [
    {
     "data": {
      "image/png": "[encoded data removed]",
      "text/plain": [
       "<Figure size 432x288 with 1 Axes>"
      ]
     },
     "metadata": {
      "needs_background": "light"
     },
     "output_type": "display_data"
    }
   ],
   "source": [
    "fpr, tpr, _ = roc_curve(y_test, y_pred)\n",
    "\n",
    "plt.figure()\n",
    "lw = 2\n",
    "plt.plot(\n",
    "    fpr,\n",
    "    tpr,\n",
    "    color=\"darkorange\",\n",
    "    lw=lw,\n",
    "    label=\"ROC curve (area = %0.2f)\",\n",
    ")\n",
    "plt.plot([0, 1], [0, 1], color=\"navy\", lw=lw, linestyle=\"--\")\n",
    "plt.xlim([0.0, 1.0])\n",
    "plt.ylim([0.0, 1.05])\n",
    "plt.xlabel(\"False Positive Rate\")\n",
    "plt.ylabel(\"True Positive Rate\")\n",
    "plt.title(\"Receiver operating characteristic example\")\n",
    "plt.legend(loc=\"lower right\")\n",
    "plt.show()"
   ]
  }
 ],
 "metadata": {
  "colab": {
   "name": "Metrics.ipynb",
   "provenance": []
  },
  "kernelspec": {
   "display_name": "Python 3",
   "language": "python",
   "name": "python3"
  },
  "language_info": {
   "codemirror_mode": {
    "name": "ipython",
    "version": 3
   },
   "file_extension": ".py",
   "mimetype": "text/x-python",
   "name": "python",
   "nbconvert_exporter": "python",
   "pygments_lexer": "ipython3",
   "version": "3.7.2"
  },
  "vscode": {
   "interpreter": {
    "hash": "8cd89f6272394265e32793f6ecf25e57dd9545a63cdef153f2dbf74eef9f8591"
   }
  }
 },
 "nbformat": 4,
 "nbformat_minor": 1
}
