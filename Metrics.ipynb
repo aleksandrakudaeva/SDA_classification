{
  "cells": [
    {
      "cell_type": "markdown",
      "metadata": {
        "id": "-g4zNhPSX4BW"
      },
      "source": [
        "# Classification metrics\n",
        "\n",
        "In order to learn about popular methods of classifier evaluation, we will generate example sequences of example classes. For this purpose, we will use the numpy library and a random number generator from the normal distribution."
      ]
    },
    {
      "cell_type": "code",
      "execution_count": 6,
      "metadata": {
        "collapsed": true,
        "id": "oeUhNVQ3X4Bb"
      },
      "outputs": [],
      "source": [
        "import numpy as np\n",
        "import pandas as pd\n",
        "from numpy.random import RandomState\n",
        "from sklearn.metrics import precision_score, recall_score, confusion_matrix\n",
        "from sklearn.metrics import f1_score, precision_score, recall_score"
      ]
    },
    {
      "cell_type": "markdown",
      "metadata": {},
      "source": [
        "Let's generate an example for us to better understand classification metrics "
      ]
    },
    {
      "cell_type": "code",
      "execution_count": 3,
      "metadata": {
        "colab": {
          "base_uri": "https://localhost:8080/"
        },
        "id": "-zS2jGUxX4Bc",
        "outputId": "f4ce7d4f-345c-4b9d-9c72-8fddfac08577"
      },
      "outputs": [
        {
          "name": "stdout",
          "output_type": "stream",
          "text": [
            "[0, 1, 0, 1, 0, 1, 0, 1, 1, 0, 1, 1, 0, 0, 1, 1, 0, 1, 0, 1]\n",
            "[1, 1, 1, 0, 0, 1, 0, 1, 0, 1, 1, 0, 0, 1, 1, 0, 0, 1, 0, 1]\n"
          ]
        }
      ],
      "source": [
        "random = RandomState(30)\n",
        "\n",
        "random_1 = random.normal(loc=0.0, size=100)\n",
        "random_2 = random.normal(loc=1, size=100)\n",
        "random_3 = random.logistic(size=100)\n",
        "y_test = [1 if i >= 0 else 0 for i in random_1]\n",
        "y_pred = [1 if i >= 0 else 0 for i in random_3]\n",
        "print(y_test[:20])\n",
        "print(y_pred[:20])\n"
      ]
    },
    {
      "cell_type": "markdown",
      "metadata": {},
      "source": [
        "Just to illustrate the meaning of the numbers we have generated"
      ]
    },
    {
      "cell_type": "code",
      "execution_count": 10,
      "metadata": {},
      "outputs": [
        {
          "data": {
            "text/html": [
              "<div>\n",
              "<style scoped>\n",
              "    .dataframe tbody tr th:only-of-type {\n",
              "        vertical-align: middle;\n",
              "    }\n",
              "\n",
              "    .dataframe tbody tr th {\n",
              "        vertical-align: top;\n",
              "    }\n",
              "\n",
              "    .dataframe thead th {\n",
              "        text-align: right;\n",
              "    }\n",
              "</style>\n",
              "<table border=\"1\" class=\"dataframe\">\n",
              "  <thead>\n",
              "    <tr style=\"text-align: right;\">\n",
              "      <th></th>\n",
              "      <th>Real Class</th>\n",
              "      <th>Class Predicted by some classification model</th>\n",
              "      <th>Correct prediction?</th>\n",
              "    </tr>\n",
              "  </thead>\n",
              "  <tbody>\n",
              "    <tr>\n",
              "      <th>0</th>\n",
              "      <td>0</td>\n",
              "      <td>1</td>\n",
              "      <td>Wrong:(</td>\n",
              "    </tr>\n",
              "    <tr>\n",
              "      <th>1</th>\n",
              "      <td>1</td>\n",
              "      <td>1</td>\n",
              "      <td>Correct!</td>\n",
              "    </tr>\n",
              "    <tr>\n",
              "      <th>2</th>\n",
              "      <td>0</td>\n",
              "      <td>1</td>\n",
              "      <td>Wrong:(</td>\n",
              "    </tr>\n",
              "    <tr>\n",
              "      <th>3</th>\n",
              "      <td>1</td>\n",
              "      <td>0</td>\n",
              "      <td>Wrong:(</td>\n",
              "    </tr>\n",
              "    <tr>\n",
              "      <th>4</th>\n",
              "      <td>0</td>\n",
              "      <td>0</td>\n",
              "      <td>Correct!</td>\n",
              "    </tr>\n",
              "    <tr>\n",
              "      <th>...</th>\n",
              "      <td>...</td>\n",
              "      <td>...</td>\n",
              "      <td>...</td>\n",
              "    </tr>\n",
              "    <tr>\n",
              "      <th>95</th>\n",
              "      <td>0</td>\n",
              "      <td>1</td>\n",
              "      <td>Wrong:(</td>\n",
              "    </tr>\n",
              "    <tr>\n",
              "      <th>96</th>\n",
              "      <td>1</td>\n",
              "      <td>1</td>\n",
              "      <td>Correct!</td>\n",
              "    </tr>\n",
              "    <tr>\n",
              "      <th>97</th>\n",
              "      <td>0</td>\n",
              "      <td>1</td>\n",
              "      <td>Wrong:(</td>\n",
              "    </tr>\n",
              "    <tr>\n",
              "      <th>98</th>\n",
              "      <td>1</td>\n",
              "      <td>0</td>\n",
              "      <td>Wrong:(</td>\n",
              "    </tr>\n",
              "    <tr>\n",
              "      <th>99</th>\n",
              "      <td>1</td>\n",
              "      <td>1</td>\n",
              "      <td>Correct!</td>\n",
              "    </tr>\n",
              "  </tbody>\n",
              "</table>\n",
              "<p>100 rows × 3 columns</p>\n",
              "</div>"
            ],
            "text/plain": [
              "    Real Class  Class Predicted by some classification model  \\\n",
              "0            0                                             1   \n",
              "1            1                                             1   \n",
              "2            0                                             1   \n",
              "3            1                                             0   \n",
              "4            0                                             0   \n",
              "..         ...                                           ...   \n",
              "95           0                                             1   \n",
              "96           1                                             1   \n",
              "97           0                                             1   \n",
              "98           1                                             0   \n",
              "99           1                                             1   \n",
              "\n",
              "   Correct prediction?  \n",
              "0              Wrong:(  \n",
              "1             Correct!  \n",
              "2              Wrong:(  \n",
              "3              Wrong:(  \n",
              "4             Correct!  \n",
              "..                 ...  \n",
              "95             Wrong:(  \n",
              "96            Correct!  \n",
              "97             Wrong:(  \n",
              "98             Wrong:(  \n",
              "99            Correct!  \n",
              "\n",
              "[100 rows x 3 columns]"
            ]
          },
          "execution_count": 10,
          "metadata": {},
          "output_type": "execute_result"
        }
      ],
      "source": [
        "example = pd.DataFrame({'Real Class': y_test, 'Class Predicted by some classification model': y_pred, 'sum': np.array(y_test)+np.array(y_pred)})\n",
        "example['Correct prediction?'] = ['Wrong:(' if s == 1 else 'Correct!' for s in example['sum']]\n",
        "example = example.drop(['sum'], axis = 1)\n",
        "\n",
        "example"
      ]
    }
  ],
  "metadata": {
    "colab": {
      "name": "Metrics.ipynb",
      "provenance": []
    },
    "kernelspec": {
      "display_name": "Python 3.7.2 64-bit (system)",
      "language": "python",
      "name": "python3"
    },
    "language_info": {
      "codemirror_mode": {
        "name": "ipython",
        "version": 3
      },
      "file_extension": ".py",
      "mimetype": "text/x-python",
      "name": "python",
      "nbconvert_exporter": "python",
      "pygments_lexer": "ipython3",
      "version": "3.7.2"
    },
    "vscode": {
      "interpreter": {
        "hash": "8cd89f6272394265e32793f6ecf25e57dd9545a63cdef153f2dbf74eef9f8591"
      }
    }
  },
  "nbformat": 4,
  "nbformat_minor": 0
}
